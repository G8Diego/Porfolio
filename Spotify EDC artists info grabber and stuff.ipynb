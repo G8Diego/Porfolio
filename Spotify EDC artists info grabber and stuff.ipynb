{
 "cells": [
  {
   "cell_type": "markdown",
   "id": "13309f3e",
   "metadata": {},
   "source": [
    "# EDC Mexico 2024 Artists Info Grabber with Spotify API"
   ]
  },
  {
   "cell_type": "code",
   "execution_count": 1,
   "id": "38d0ab46",
   "metadata": {},
   "outputs": [],
   "source": [
    "import pandas as pd\n",
    "import spotipy\n",
    "from spotipy.oauth2 import SpotifyClientCredentials"
   ]
  },
  {
   "cell_type": "code",
   "execution_count": 2,
   "id": "04157f20",
   "metadata": {},
   "outputs": [
    {
     "data": {
      "text/plain": [
       "''"
      ]
     },
     "execution_count": 2,
     "metadata": {},
     "output_type": "execute_result"
    }
   ],
   "source": [
    "# Spotify API auth stuff\n",
    "\n",
    "{\n",
    "    \"tags\": [\n",
    "        \"remove-input\"\n",
    "    ]\n",
    "}\n",
    "\n",
    "client_id = '25ca0ef48bbf4bb697d5a6b49e066244'\n",
    "client_secret = '6f025d3665564bcbaf9e1cc258fc2038'\n",
    "client_credentials_manager = SpotifyClientCredentials(client_id=client_id, client_secret=client_secret)\n",
    "sp = spotipy.Spotify(client_credentials_manager=client_credentials_manager)\n",
    ";\n"
   ]
  },
  {
   "cell_type": "code",
   "execution_count": 3,
   "id": "c4fbce95",
   "metadata": {},
   "outputs": [],
   "source": [
    "def fetch_artist_data(csv_file):\n",
    "    \n",
    "    df = pd.read_csv(csv_file)\n",
    "    \n",
    "    # Define lists to store fetched data\n",
    "    ids = []\n",
    "    followers_totals = []\n",
    "    genres_lists = []\n",
    "    popularities = []\n",
    "    \n",
    "    # Loop through each artist name\n",
    "    for artist_name in df['artist_name']:\n",
    "        # Search for the artist\n",
    "        results = sp.search(q='artist:' + artist_name, type='artist', limit=1)\n",
    "        \n",
    "        # Extract data from the first result, if available\n",
    "        if results['artists']['items']:\n",
    "            artist = results['artists']['items'][0]\n",
    "            ids.append(artist['id'])\n",
    "            followers_totals.append(artist['followers']['total'])\n",
    "            genres_lists.append(artist['genres'])\n",
    "            popularities.append(artist['popularity'])\n",
    "        else:\n",
    "            # If no result found, append None to each list\n",
    "            ids.append(None)\n",
    "            followers_totals.append(None)\n",
    "            genres_lists.append(None)\n",
    "            popularities.append(None)\n",
    "    \n",
    "    # Add new columns to the DataFrame\n",
    "    df['id'] = ids\n",
    "    df['followers_total'] = followers_totals\n",
    "    df['genres'] = genres_lists\n",
    "    df['popularity'] = popularities\n",
    "    \n",
    "    return df\n"
   ]
  },
  {
   "cell_type": "code",
   "execution_count": 4,
   "id": "c8bce7a8",
   "metadata": {},
   "outputs": [],
   "source": [
    "csv_file = r'C:\\Users\\logan\\Desktop\\artist_names.csv'\n",
    "populated_df = fetch_artist_data(csv_file)"
   ]
  },
  {
   "cell_type": "code",
   "execution_count": 5,
   "id": "7303ae9a",
   "metadata": {},
   "outputs": [
    {
     "name": "stdout",
     "output_type": "stream",
     "text": [
      "      artist_name                      id  followers_total  \\\n",
      "0            AAAA  6NVMzVjhJiHrjpx6yyNQ5i           7055.0   \n",
      "1          ACRAZE  4pnp4w9g30yLfVIAFnZMRd         115642.0   \n",
      "2        Adam Ten  05tmGPn4fFdVpnsMt0YW5S          17025.0   \n",
      "3     Ahmed Spins  4jercY4pUhY6jB8eQjpVJV          44428.0   \n",
      "4       AK Sports  7qiOBa5jCbTeyLY2Chw9ju           2847.0   \n",
      "5     Alan Walker  7vk5e3vY1uw9plTHJAMwjN       37949868.0   \n",
      "6       Alby Loud  2LAMUtUpLsPEEBsfGTRRUx           4985.0   \n",
      "7          Alesso  4AVFqumd2ogHFlRbKIjp1t        3840114.0   \n",
      "8  Alex Sensation  0OROVBEZCocg0FcgJpyBse         205303.0   \n",
      "9      Aly & Fila  2hL1EouqXLtBEB6JKnPF0h         165868.0   \n",
      "\n",
      "                                              genres  popularity  \n",
      "0                                                 []        27.0  \n",
      "1                            [pop dance, tech house]        65.0  \n",
      "2                                   [israeli techno]        43.0  \n",
      "3                                    [melodic house]        52.0  \n",
      "4                                                 []        17.0  \n",
      "5                                    [electro house]        80.0  \n",
      "6                                      [speed house]        14.0  \n",
      "7  [dance pop, edm, pop, pop dance, progressive e...        73.0  \n",
      "8                                        [reggaeton]        52.0  \n",
      "9  [progressive house, progressive trance, trance...        46.0  \n"
     ]
    }
   ],
   "source": [
    "print(populated_df.head(10))"
   ]
  },
  {
   "cell_type": "code",
   "execution_count": 7,
   "id": "4b266c25",
   "metadata": {},
   "outputs": [],
   "source": [
    "# Save the updated table\n",
    "populated_df.to_csv('pretable.csv', index=False)"
   ]
  }
 ],
 "metadata": {
  "kernelspec": {
   "display_name": "Python 3 (ipykernel)",
   "language": "python",
   "name": "python3"
  },
  "language_info": {
   "codemirror_mode": {
    "name": "ipython",
    "version": 3
   },
   "file_extension": ".py",
   "mimetype": "text/x-python",
   "name": "python",
   "nbconvert_exporter": "python",
   "pygments_lexer": "ipython3",
   "version": "3.8.16"
  }
 },
 "nbformat": 4,
 "nbformat_minor": 5
}
